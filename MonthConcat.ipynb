{
 "cells": [
  {
   "cell_type": "code",
   "execution_count": 34,
   "metadata": {
    "collapsed": true
   },
   "outputs": [],
   "source": [
    "import pandas as pd\n",
    "\n",
    "JAN = pd.read_csv(\"JAN.csv\")\n",
    "FEB = pd.read_csv(\"FEB.csv\")\n",
    "MAR = pd.read_csv(\"MAR.csv\")\n",
    "APR = pd.read_csv(\"APR.csv\")\n",
    "MAY = pd.read_csv(\"MAY.csv\")\n",
    "JUN = pd.read_csv(\"JUN.csv\")\n",
    "JUL = pd.read_csv(\"JUL.csv\")\n",
    "AUG = pd.read_csv(\"AUG.csv\")\n",
    "SEPT = pd.read_csv(\"SEPT.csv\")\n",
    "OCT = pd.read_csv(\"OCT.csv\")\n",
    "NOV = pd.read_csv(\"NOV.csv\")\n",
    "DEC = pd.read_csv(\"DEC.csv\")"
   ]
  },
  {
   "cell_type": "code",
   "execution_count": 35,
   "metadata": {},
   "outputs": [],
   "source": [
    "JAN = JAN.iloc[:,1:]\n",
    "FEB = FEB.iloc[:,1:]\n",
    "MAR = MAR.iloc[:,1:]\n",
    "APR = APR.iloc[:,1:]\n",
    "MAY = MAY.iloc[:,1:]\n",
    "JUN = JUN.iloc[:,1:]\n",
    "JUL = JUL.iloc[:,1:]\n",
    "AUG = AUG.iloc[:,1:]\n",
    "SEPT = SEPT.iloc[:,1:]\n",
    "OCT = OCT.iloc[:,1:]\n",
    "NOV = NOV.iloc[:,1:]\n",
    "DEC = DEC.iloc[:,1:]"
   ]
  },
  {
   "cell_type": "code",
   "execution_count": 36,
   "metadata": {},
   "outputs": [],
   "source": [
    "JAN = JAN.set_index('period')\n",
    "FEB = FEB.set_index('period')\n",
    "MAR = MAR.set_index('period')\n",
    "APR = APR.set_index('period')\n",
    "MAY = MAY.set_index('period')\n",
    "JUN = JUN.set_index('period')\n",
    "JUL = JUL.set_index('period')\n",
    "AUG = AUG.set_index('period')\n",
    "SEPT = SEPT.set_index('period')\n",
    "OCT = OCT.set_index('period')\n",
    "NOV = NOV.set_index('period')\n",
    "DEC = DEC.set_index('period')"
   ]
  },
  {
   "cell_type": "code",
   "execution_count": 37,
   "metadata": {},
   "outputs": [],
   "source": [
    "ALL_MONTHS = JAN.append([FEB,MAR,APR,MAY,JUN,JUL,AUG,SEPT,OCT,NOV,DEC])"
   ]
  },
  {
   "cell_type": "code",
   "execution_count": 38,
   "metadata": {},
   "outputs": [],
   "source": [
    "ALL_MONTHS['Year'] = ALL_MONTHS['Year'].fillna(2016)"
   ]
  },
  {
   "cell_type": "code",
   "execution_count": 39,
   "metadata": {},
   "outputs": [],
   "source": [
    "ALL_MONTHS.to_csv(\"ALLMONTHS.csv\")"
   ]
  },
  {
   "cell_type": "code",
   "execution_count": 28,
   "metadata": {},
   "outputs": [
    {
     "name": "stdout",
     "output_type": "stream",
     "text": [
      "<class 'pandas.core.frame.DataFrame'>\n",
      "Index: 8784 entries, 2016-01-01 00:00:00 to 2016-12-31 23:00:00\n",
      "Data columns (total 21 columns):\n",
      "C6       8784 non-null float64\n",
      "CO       8784 non-null float64\n",
      "Day      8784 non-null int64\n",
      "Hour     8784 non-null int64\n",
      "Month    8784 non-null int64\n",
      "NO       8783 non-null float64\n",
      "NO2      8783 non-null float64\n",
      "NOX      8783 non-null float64\n",
      "O3       8784 non-null float64\n",
      "PM10     8784 non-null object\n",
      "PM25     8784 non-null object\n",
      "RF       8784 non-null float64\n",
      "RH       8784 non-null float64\n",
      "RT       8692 non-null float64\n",
      "SO2      8783 non-null float64\n",
      "SR       8784 non-null float64\n",
      "TOL      8784 non-null float64\n",
      "WD       8784 non-null float64\n",
      "WS       8784 non-null float64\n",
      "XYL      8784 non-null float64\n",
      "Year     8040 non-null float64\n",
      "dtypes: float64(16), int64(3), object(2)\n",
      "memory usage: 1.8+ MB\n"
     ]
    }
   ],
   "source": [
    "ALL_MONTHS.info()"
   ]
  },
  {
   "cell_type": "code",
   "execution_count": null,
   "metadata": {
    "collapsed": true
   },
   "outputs": [],
   "source": []
  }
 ],
 "metadata": {
  "kernelspec": {
   "display_name": "Python 3",
   "language": "python",
   "name": "python3"
  },
  "language_info": {
   "codemirror_mode": {
    "name": "ipython",
    "version": 3
   },
   "file_extension": ".py",
   "mimetype": "text/x-python",
   "name": "python",
   "nbconvert_exporter": "python",
   "pygments_lexer": "ipython3",
   "version": "3.6.3"
  }
 },
 "nbformat": 4,
 "nbformat_minor": 2
}
