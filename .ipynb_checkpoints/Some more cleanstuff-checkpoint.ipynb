{
 "cells": [
  {
   "cell_type": "code",
   "execution_count": 1,
   "metadata": {
    "collapsed": true
   },
   "outputs": [],
   "source": [
    "import pandas as pd\n",
    "import numpy as np\n",
    "import matplotlib.pyplot as plt"
   ]
  },
  {
   "cell_type": "code",
   "execution_count": 2,
   "metadata": {},
   "outputs": [],
   "source": [
    "%matplotlib inline\n",
    "from matplotlib.pylab import rcParams\n",
    "rcParams['figure.figsize'] = 15,6\n",
    "from datetime import datetime"
   ]
  },
  {
   "cell_type": "code",
   "execution_count": 3,
   "metadata": {
    "collapsed": true
   },
   "outputs": [],
   "source": [
    "data = pd.read_csv('ALLMONTHS.csv')"
   ]
  },
  {
   "cell_type": "code",
   "execution_count": 4,
   "metadata": {},
   "outputs": [
    {
     "data": {
      "text/html": [
       "<div>\n",
       "<style>\n",
       "    .dataframe thead tr:only-child th {\n",
       "        text-align: right;\n",
       "    }\n",
       "\n",
       "    .dataframe thead th {\n",
       "        text-align: left;\n",
       "    }\n",
       "\n",
       "    .dataframe tbody tr th {\n",
       "        vertical-align: top;\n",
       "    }\n",
       "</style>\n",
       "<table border=\"1\" class=\"dataframe\">\n",
       "  <thead>\n",
       "    <tr style=\"text-align: right;\">\n",
       "      <th></th>\n",
       "      <th>period</th>\n",
       "      <th>Year</th>\n",
       "      <th>Month</th>\n",
       "      <th>Day</th>\n",
       "      <th>Hour</th>\n",
       "      <th>AP</th>\n",
       "      <th>C6</th>\n",
       "      <th>CO</th>\n",
       "      <th>NO</th>\n",
       "      <th>NO2</th>\n",
       "      <th>...</th>\n",
       "      <th>PM25</th>\n",
       "      <th>RF</th>\n",
       "      <th>RH</th>\n",
       "      <th>RT</th>\n",
       "      <th>SO2</th>\n",
       "      <th>SR</th>\n",
       "      <th>TOL</th>\n",
       "      <th>WD</th>\n",
       "      <th>WS</th>\n",
       "      <th>XYL</th>\n",
       "    </tr>\n",
       "  </thead>\n",
       "  <tbody>\n",
       "    <tr>\n",
       "      <th>0</th>\n",
       "      <td>2016-01-01 00:00:00</td>\n",
       "      <td>2016</td>\n",
       "      <td>1</td>\n",
       "      <td>1</td>\n",
       "      <td>0</td>\n",
       "      <td>953.25</td>\n",
       "      <td>0.46</td>\n",
       "      <td>1.51</td>\n",
       "      <td>20.11</td>\n",
       "      <td>68.99</td>\n",
       "      <td>...</td>\n",
       "      <td>75.25</td>\n",
       "      <td>0.0</td>\n",
       "      <td>58.18</td>\n",
       "      <td>17.72</td>\n",
       "      <td>40.58</td>\n",
       "      <td>0.11</td>\n",
       "      <td>3.23</td>\n",
       "      <td>16.39</td>\n",
       "      <td>0.41</td>\n",
       "      <td>2.35</td>\n",
       "    </tr>\n",
       "    <tr>\n",
       "      <th>1</th>\n",
       "      <td>2016-01-01 01:00:00</td>\n",
       "      <td>2016</td>\n",
       "      <td>1</td>\n",
       "      <td>1</td>\n",
       "      <td>1</td>\n",
       "      <td>952.98</td>\n",
       "      <td>0.27</td>\n",
       "      <td>1.22</td>\n",
       "      <td>20.50</td>\n",
       "      <td>68.79</td>\n",
       "      <td>...</td>\n",
       "      <td>101.77</td>\n",
       "      <td>0.0</td>\n",
       "      <td>61.08</td>\n",
       "      <td>16.91</td>\n",
       "      <td>40.46</td>\n",
       "      <td>0.02</td>\n",
       "      <td>2.18</td>\n",
       "      <td>16.33</td>\n",
       "      <td>0.53</td>\n",
       "      <td>1.53</td>\n",
       "    </tr>\n",
       "    <tr>\n",
       "      <th>2</th>\n",
       "      <td>2016-01-01 02:00:00</td>\n",
       "      <td>2016</td>\n",
       "      <td>1</td>\n",
       "      <td>1</td>\n",
       "      <td>2</td>\n",
       "      <td>952.69</td>\n",
       "      <td>0.14</td>\n",
       "      <td>1.05</td>\n",
       "      <td>20.89</td>\n",
       "      <td>66.25</td>\n",
       "      <td>...</td>\n",
       "      <td>83.33</td>\n",
       "      <td>0.0</td>\n",
       "      <td>62.52</td>\n",
       "      <td>16.43</td>\n",
       "      <td>38.97</td>\n",
       "      <td>0.01</td>\n",
       "      <td>1.65</td>\n",
       "      <td>16.30</td>\n",
       "      <td>0.45</td>\n",
       "      <td>1.08</td>\n",
       "    </tr>\n",
       "    <tr>\n",
       "      <th>3</th>\n",
       "      <td>2016-01-01 03:00:00</td>\n",
       "      <td>2016</td>\n",
       "      <td>1</td>\n",
       "      <td>1</td>\n",
       "      <td>3</td>\n",
       "      <td>952.45</td>\n",
       "      <td>0.17</td>\n",
       "      <td>0.98</td>\n",
       "      <td>21.09</td>\n",
       "      <td>66.43</td>\n",
       "      <td>...</td>\n",
       "      <td>61.98</td>\n",
       "      <td>0.0</td>\n",
       "      <td>64.72</td>\n",
       "      <td>15.66</td>\n",
       "      <td>39.07</td>\n",
       "      <td>0.00</td>\n",
       "      <td>1.30</td>\n",
       "      <td>16.25</td>\n",
       "      <td>0.29</td>\n",
       "      <td>0.76</td>\n",
       "    </tr>\n",
       "    <tr>\n",
       "      <th>4</th>\n",
       "      <td>2016-01-01 04:00:00</td>\n",
       "      <td>2016</td>\n",
       "      <td>1</td>\n",
       "      <td>1</td>\n",
       "      <td>4</td>\n",
       "      <td>952.43</td>\n",
       "      <td>0.12</td>\n",
       "      <td>0.93</td>\n",
       "      <td>21.21</td>\n",
       "      <td>67.40</td>\n",
       "      <td>...</td>\n",
       "      <td>69.2</td>\n",
       "      <td>0.0</td>\n",
       "      <td>68.06</td>\n",
       "      <td>14.93</td>\n",
       "      <td>39.65</td>\n",
       "      <td>0.00</td>\n",
       "      <td>1.15</td>\n",
       "      <td>16.23</td>\n",
       "      <td>0.28</td>\n",
       "      <td>0.60</td>\n",
       "    </tr>\n",
       "  </tbody>\n",
       "</table>\n",
       "<p>5 rows × 23 columns</p>\n",
       "</div>"
      ],
      "text/plain": [
       "                period  Year  Month  Day  Hour      AP    C6    CO     NO  \\\n",
       "0  2016-01-01 00:00:00  2016      1    1     0  953.25  0.46  1.51  20.11   \n",
       "1  2016-01-01 01:00:00  2016      1    1     1  952.98  0.27  1.22  20.50   \n",
       "2  2016-01-01 02:00:00  2016      1    1     2  952.69  0.14  1.05  20.89   \n",
       "3  2016-01-01 03:00:00  2016      1    1     3  952.45  0.17  0.98  21.09   \n",
       "4  2016-01-01 04:00:00  2016      1    1     4  952.43  0.12  0.93  21.21   \n",
       "\n",
       "     NO2  ...     PM25   RF     RH     RT    SO2    SR   TOL     WD    WS  \\\n",
       "0  68.99  ...    75.25  0.0  58.18  17.72  40.58  0.11  3.23  16.39  0.41   \n",
       "1  68.79  ...   101.77  0.0  61.08  16.91  40.46  0.02  2.18  16.33  0.53   \n",
       "2  66.25  ...    83.33  0.0  62.52  16.43  38.97  0.01  1.65  16.30  0.45   \n",
       "3  66.43  ...    61.98  0.0  64.72  15.66  39.07  0.00  1.30  16.25  0.29   \n",
       "4  67.40  ...     69.2  0.0  68.06  14.93  39.65  0.00  1.15  16.23  0.28   \n",
       "\n",
       "    XYL  \n",
       "0  2.35  \n",
       "1  1.53  \n",
       "2  1.08  \n",
       "3  0.76  \n",
       "4  0.60  \n",
       "\n",
       "[5 rows x 23 columns]"
      ]
     },
     "execution_count": 4,
     "metadata": {},
     "output_type": "execute_result"
    }
   ],
   "source": [
    "data.head()"
   ]
  },
  {
   "cell_type": "code",
   "execution_count": 5,
   "metadata": {},
   "outputs": [
    {
     "data": {
      "text/plain": [
       "Index(['period', 'Year', 'Month', 'Day', 'Hour', 'AP', 'C6', 'CO', 'NO', 'NO2',\n",
       "       'NOX', 'O3', 'PM10', 'PM25', 'RF', 'RH', 'RT', 'SO2', 'SR', 'TOL', 'WD',\n",
       "       'WS', 'XYL'],\n",
       "      dtype='object')"
      ]
     },
     "execution_count": 5,
     "metadata": {},
     "output_type": "execute_result"
    }
   ],
   "source": [
    "data.columns"
   ]
  },
  {
   "cell_type": "code",
   "execution_count": 6,
   "metadata": {},
   "outputs": [
    {
     "data": {
      "text/plain": [
       "period     object\n",
       "Year        int64\n",
       "Month       int64\n",
       "Day         int64\n",
       "Hour        int64\n",
       "AP        float64\n",
       "C6        float64\n",
       "CO        float64\n",
       "NO        float64\n",
       "NO2       float64\n",
       "NOX       float64\n",
       "O3        float64\n",
       "PM10       object\n",
       "PM25       object\n",
       "RF        float64\n",
       "RH        float64\n",
       "RT        float64\n",
       "SO2       float64\n",
       "SR        float64\n",
       "TOL       float64\n",
       "WD        float64\n",
       "WS        float64\n",
       "XYL       float64\n",
       "dtype: object"
      ]
     },
     "execution_count": 6,
     "metadata": {},
     "output_type": "execute_result"
    }
   ],
   "source": [
    "data.dtypes"
   ]
  },
  {
   "cell_type": "code",
   "execution_count": 7,
   "metadata": {
    "scrolled": true
   },
   "outputs": [
    {
     "data": {
      "text/plain": [
       "0    112.21\n",
       "1    119.91\n",
       "2    103.12\n",
       "3     92.37\n",
       "4     86.86\n",
       "Name: PM10, dtype: object"
      ]
     },
     "execution_count": 7,
     "metadata": {},
     "output_type": "execute_result"
    }
   ],
   "source": [
    "data['PM10'].head()"
   ]
  },
  {
   "cell_type": "code",
   "execution_count": 8,
   "metadata": {},
   "outputs": [
    {
     "data": {
      "text/plain": [
       "8784"
      ]
     },
     "execution_count": 8,
     "metadata": {},
     "output_type": "execute_result"
    }
   ],
   "source": [
    "len(data)"
   ]
  },
  {
   "cell_type": "code",
   "execution_count": null,
   "metadata": {},
   "outputs": [
    {
     "name": "stderr",
     "output_type": "stream",
     "text": [
      "C:\\Users\\Rishikesh\\Anaconda3\\lib\\site-packages\\ipykernel_launcher.py:2: SettingWithCopyWarning: \n",
      "A value is trying to be set on a copy of a slice from a DataFrame\n",
      "\n",
      "See the caveats in the documentation: http://pandas.pydata.org/pandas-docs/stable/indexing.html#indexing-view-versus-copy\n",
      "  \n",
      "C:\\Users\\Rishikesh\\Anaconda3\\lib\\site-packages\\ipykernel_launcher.py:3: SettingWithCopyWarning: \n",
      "A value is trying to be set on a copy of a slice from a DataFrame\n",
      "\n",
      "See the caveats in the documentation: http://pandas.pydata.org/pandas-docs/stable/indexing.html#indexing-view-versus-copy\n",
      "  This is separate from the ipykernel package so we can avoid doing imports until\n",
      "C:\\Users\\Rishikesh\\Anaconda3\\lib\\site-packages\\ipykernel_launcher.py:4: SettingWithCopyWarning: \n",
      "A value is trying to be set on a copy of a slice from a DataFrame\n",
      "\n",
      "See the caveats in the documentation: http://pandas.pydata.org/pandas-docs/stable/indexing.html#indexing-view-versus-copy\n",
      "  after removing the cwd from sys.path.\n",
      "C:\\Users\\Rishikesh\\Anaconda3\\lib\\site-packages\\ipykernel_launcher.py:5: SettingWithCopyWarning: \n",
      "A value is trying to be set on a copy of a slice from a DataFrame\n",
      "\n",
      "See the caveats in the documentation: http://pandas.pydata.org/pandas-docs/stable/indexing.html#indexing-view-versus-copy\n",
      "  \"\"\"\n"
     ]
    },
    {
     "name": "stdout",
     "output_type": "stream",
     "text": [
      "0.0 Percent Done\n",
      "0.0 Percent Done\n",
      "0.0 Percent Done\n",
      "0.0 Percent Done\n",
      "0.0 Percent Done\n",
      "0.0 Percent Done\n",
      "0.0 Percent Done\n",
      "0.0 Percent Done\n",
      "0.0 Percent Done\n",
      "0.0 Percent Done\n",
      "0.0 Percent Done\n",
      "0.0 Percent Done\n",
      "0.0 Percent Done\n",
      "0.0 Percent Done\n",
      "0.0 Percent Done\n",
      "0.0 Percent Done\n",
      "0.0 Percent Done\n",
      "0.0 Percent Done\n",
      "0.0 Percent Done\n",
      "0.0 Percent Done\n",
      "0.0 Percent Done\n",
      "0.0 Percent Done\n",
      "0.0 Percent Done\n",
      "0.0 Percent Done\n",
      "0.0 Percent Done\n",
      "0.0 Percent Done\n",
      "0.0 Percent Done\n",
      "0.0 Percent Done\n",
      "0.0 Percent Done\n",
      "0.0 Percent Done\n",
      "0.0 Percent Done\n",
      "0.0 Percent Done\n",
      "0.0 Percent Done\n",
      "0.0 Percent Done\n",
      "0.0 Percent Done\n",
      "0.0 Percent Done\n",
      "0.0 Percent Done\n",
      "0.0 Percent Done\n",
      "0.0 Percent Done\n",
      "0.0 Percent Done\n",
      "0.0 Percent Done\n",
      "0.0 Percent Done\n",
      "0.0 Percent Done\n",
      "0.0 Percent Done\n",
      "0.0 Percent Done\n",
      "0.0 Percent Done\n",
      "0.0 Percent Done\n",
      "0.0 Percent Done\n",
      "0.0 Percent Done\n",
      "0.0 Percent Done\n",
      "0.0 Percent Done\n",
      "0.0 Percent Done\n",
      "0.0 Percent Done\n",
      "0.0 Percent Done\n",
      "0.0 Percent Done\n",
      "0.0 Percent Done\n",
      "0.0 Percent Done\n",
      "0.0 Percent Done\n",
      "0.0 Percent Done\n",
      "0.0 Percent Done\n",
      "0.0 Percent Done\n",
      "0.0 Percent Done\n",
      "0.0 Percent Done\n",
      "0.0 Percent Done\n",
      "0.0 Percent Done\n",
      "0.0 Percent Done\n",
      "0.0 Percent Done\n",
      "0.0 Percent Done\n",
      "0.0 Percent Done\n",
      "0.0 Percent Done\n",
      "0.0 Percent Done\n",
      "0.0 Percent Done\n",
      "0.0 Percent Done\n",
      "0.0 Percent Done\n",
      "0.0 Percent Done\n",
      "0.0 Percent Done\n",
      "0.0 Percent Done\n",
      "0.0 Percent Done\n",
      "0.0 Percent Done\n",
      "0.0 Percent Done\n",
      "0.0 Percent Done\n",
      "0.0 Percent Done\n",
      "0.0 Percent Done\n",
      "0.0 Percent Done\n",
      "0.0 Percent Done\n",
      "0.0 Percent Done\n",
      "0.0 Percent Done\n",
      "0.0 Percent Done\n",
      "0.0 Percent Done\n",
      "0.0 Percent Done\n",
      "0.0 Percent Done\n",
      "0.0 Percent Done\n",
      "0.0 Percent Done\n",
      "0.0 Percent Done\n",
      "0.0 Percent Done\n",
      "0.0 Percent Done\n",
      "0.0 Percent Done\n",
      "0.0 Percent Done\n",
      "0.0 Percent Done\n",
      "0.0 Percent Done\n",
      "\n"
     ]
    }
   ],
   "source": [
    "for i in range(8784):\n",
    "    data['PM10'][i] = data['PM10'][i].replace(',','')\n",
    "    data['PM10'][i] = float(data['PM10'][i])\n",
    "    data['PM25'][i] = data['PM25'][i].replace(',','')\n",
    "    data['PM25'][i] = float(data['PM25'][i])\n",
    "    if i%503 == 0:\n",
    "        print(\"{} Percent Done\\n\".format((i/8784))*100)"
   ]
  },
  {
   "cell_type": "code",
   "execution_count": null,
   "metadata": {
    "collapsed": true
   },
   "outputs": [],
   "source": []
  }
 ],
 "metadata": {
  "kernelspec": {
   "display_name": "Python 3",
   "language": "python",
   "name": "python3"
  },
  "language_info": {
   "codemirror_mode": {
    "name": "ipython",
    "version": 3
   },
   "file_extension": ".py",
   "mimetype": "text/x-python",
   "name": "python",
   "nbconvert_exporter": "python",
   "pygments_lexer": "ipython3",
   "version": "3.6.3"
  }
 },
 "nbformat": 4,
 "nbformat_minor": 2
}
