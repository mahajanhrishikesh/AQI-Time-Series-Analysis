{
 "cells": [
  {
   "cell_type": "code",
   "execution_count": 55,
   "metadata": {
    "collapsed": true
   },
   "outputs": [],
   "source": [
    "import pandas as pd\n",
    "import numpy as np\n",
    "import matplotlib.pyplot as plt\n",
    "%matplotlib inline\n",
    "from matplotlib.pylab import rcParams\n",
    "rcParams['figure.figsize'] = 15,6\n",
    "from datetime import datetime"
   ]
  },
  {
   "cell_type": "code",
   "execution_count": 89,
   "metadata": {
    "collapsed": true
   },
   "outputs": [],
   "source": [
    "dataset = pd.read_csv(\"ALLMONTHS.csv\")"
   ]
  },
  {
   "cell_type": "code",
   "execution_count": 90,
   "metadata": {
    "collapsed": true
   },
   "outputs": [],
   "source": [
    "dataset = dataset.set_index('period')"
   ]
  },
  {
   "cell_type": "code",
   "execution_count": 91,
   "metadata": {
    "scrolled": true
   },
   "outputs": [
    {
     "data": {
      "text/html": [
       "<div>\n",
       "<style>\n",
       "    .dataframe thead tr:only-child th {\n",
       "        text-align: right;\n",
       "    }\n",
       "\n",
       "    .dataframe thead th {\n",
       "        text-align: left;\n",
       "    }\n",
       "\n",
       "    .dataframe tbody tr th {\n",
       "        vertical-align: top;\n",
       "    }\n",
       "</style>\n",
       "<table border=\"1\" class=\"dataframe\">\n",
       "  <thead>\n",
       "    <tr style=\"text-align: right;\">\n",
       "      <th></th>\n",
       "      <th>Year</th>\n",
       "      <th>Month</th>\n",
       "      <th>Day</th>\n",
       "      <th>Hour</th>\n",
       "      <th>AP</th>\n",
       "      <th>C6</th>\n",
       "      <th>CO</th>\n",
       "      <th>NO</th>\n",
       "      <th>NO2</th>\n",
       "      <th>NOX</th>\n",
       "      <th>...</th>\n",
       "      <th>PM25</th>\n",
       "      <th>RF</th>\n",
       "      <th>RH</th>\n",
       "      <th>RT</th>\n",
       "      <th>SO2</th>\n",
       "      <th>SR</th>\n",
       "      <th>TOL</th>\n",
       "      <th>WD</th>\n",
       "      <th>WS</th>\n",
       "      <th>XYL</th>\n",
       "    </tr>\n",
       "    <tr>\n",
       "      <th>period</th>\n",
       "      <th></th>\n",
       "      <th></th>\n",
       "      <th></th>\n",
       "      <th></th>\n",
       "      <th></th>\n",
       "      <th></th>\n",
       "      <th></th>\n",
       "      <th></th>\n",
       "      <th></th>\n",
       "      <th></th>\n",
       "      <th></th>\n",
       "      <th></th>\n",
       "      <th></th>\n",
       "      <th></th>\n",
       "      <th></th>\n",
       "      <th></th>\n",
       "      <th></th>\n",
       "      <th></th>\n",
       "      <th></th>\n",
       "      <th></th>\n",
       "      <th></th>\n",
       "    </tr>\n",
       "  </thead>\n",
       "  <tbody>\n",
       "    <tr>\n",
       "      <th>2016-01-01 00:00:00</th>\n",
       "      <td>2016</td>\n",
       "      <td>1</td>\n",
       "      <td>1</td>\n",
       "      <td>0</td>\n",
       "      <td>953.25</td>\n",
       "      <td>0.46</td>\n",
       "      <td>1.51</td>\n",
       "      <td>20.11</td>\n",
       "      <td>68.99</td>\n",
       "      <td>89.10</td>\n",
       "      <td>...</td>\n",
       "      <td>75.25</td>\n",
       "      <td>0.0</td>\n",
       "      <td>58.18</td>\n",
       "      <td>17.72</td>\n",
       "      <td>40.58</td>\n",
       "      <td>0.11</td>\n",
       "      <td>3.23</td>\n",
       "      <td>16.39</td>\n",
       "      <td>0.41</td>\n",
       "      <td>2.35</td>\n",
       "    </tr>\n",
       "    <tr>\n",
       "      <th>2016-01-01 01:00:00</th>\n",
       "      <td>2016</td>\n",
       "      <td>1</td>\n",
       "      <td>1</td>\n",
       "      <td>1</td>\n",
       "      <td>952.98</td>\n",
       "      <td>0.27</td>\n",
       "      <td>1.22</td>\n",
       "      <td>20.50</td>\n",
       "      <td>68.79</td>\n",
       "      <td>89.29</td>\n",
       "      <td>...</td>\n",
       "      <td>101.77</td>\n",
       "      <td>0.0</td>\n",
       "      <td>61.08</td>\n",
       "      <td>16.91</td>\n",
       "      <td>40.46</td>\n",
       "      <td>0.02</td>\n",
       "      <td>2.18</td>\n",
       "      <td>16.33</td>\n",
       "      <td>0.53</td>\n",
       "      <td>1.53</td>\n",
       "    </tr>\n",
       "    <tr>\n",
       "      <th>2016-01-01 02:00:00</th>\n",
       "      <td>2016</td>\n",
       "      <td>1</td>\n",
       "      <td>1</td>\n",
       "      <td>2</td>\n",
       "      <td>952.69</td>\n",
       "      <td>0.14</td>\n",
       "      <td>1.05</td>\n",
       "      <td>20.89</td>\n",
       "      <td>66.25</td>\n",
       "      <td>87.13</td>\n",
       "      <td>...</td>\n",
       "      <td>83.33</td>\n",
       "      <td>0.0</td>\n",
       "      <td>62.52</td>\n",
       "      <td>16.43</td>\n",
       "      <td>38.97</td>\n",
       "      <td>0.01</td>\n",
       "      <td>1.65</td>\n",
       "      <td>16.30</td>\n",
       "      <td>0.45</td>\n",
       "      <td>1.08</td>\n",
       "    </tr>\n",
       "    <tr>\n",
       "      <th>2016-01-01 03:00:00</th>\n",
       "      <td>2016</td>\n",
       "      <td>1</td>\n",
       "      <td>1</td>\n",
       "      <td>3</td>\n",
       "      <td>952.45</td>\n",
       "      <td>0.17</td>\n",
       "      <td>0.98</td>\n",
       "      <td>21.09</td>\n",
       "      <td>66.43</td>\n",
       "      <td>87.51</td>\n",
       "      <td>...</td>\n",
       "      <td>61.98</td>\n",
       "      <td>0.0</td>\n",
       "      <td>64.72</td>\n",
       "      <td>15.66</td>\n",
       "      <td>39.07</td>\n",
       "      <td>0.00</td>\n",
       "      <td>1.30</td>\n",
       "      <td>16.25</td>\n",
       "      <td>0.29</td>\n",
       "      <td>0.76</td>\n",
       "    </tr>\n",
       "    <tr>\n",
       "      <th>2016-01-01 04:00:00</th>\n",
       "      <td>2016</td>\n",
       "      <td>1</td>\n",
       "      <td>1</td>\n",
       "      <td>4</td>\n",
       "      <td>952.43</td>\n",
       "      <td>0.12</td>\n",
       "      <td>0.93</td>\n",
       "      <td>21.21</td>\n",
       "      <td>67.40</td>\n",
       "      <td>88.61</td>\n",
       "      <td>...</td>\n",
       "      <td>69.2</td>\n",
       "      <td>0.0</td>\n",
       "      <td>68.06</td>\n",
       "      <td>14.93</td>\n",
       "      <td>39.65</td>\n",
       "      <td>0.00</td>\n",
       "      <td>1.15</td>\n",
       "      <td>16.23</td>\n",
       "      <td>0.28</td>\n",
       "      <td>0.60</td>\n",
       "    </tr>\n",
       "  </tbody>\n",
       "</table>\n",
       "<p>5 rows × 22 columns</p>\n",
       "</div>"
      ],
      "text/plain": [
       "                     Year  Month  Day  Hour      AP    C6    CO     NO    NO2  \\\n",
       "period                                                                          \n",
       "2016-01-01 00:00:00  2016      1    1     0  953.25  0.46  1.51  20.11  68.99   \n",
       "2016-01-01 01:00:00  2016      1    1     1  952.98  0.27  1.22  20.50  68.79   \n",
       "2016-01-01 02:00:00  2016      1    1     2  952.69  0.14  1.05  20.89  66.25   \n",
       "2016-01-01 03:00:00  2016      1    1     3  952.45  0.17  0.98  21.09  66.43   \n",
       "2016-01-01 04:00:00  2016      1    1     4  952.43  0.12  0.93  21.21  67.40   \n",
       "\n",
       "                       NOX  ...     PM25   RF     RH     RT    SO2    SR  \\\n",
       "period                      ...                                            \n",
       "2016-01-01 00:00:00  89.10  ...    75.25  0.0  58.18  17.72  40.58  0.11   \n",
       "2016-01-01 01:00:00  89.29  ...   101.77  0.0  61.08  16.91  40.46  0.02   \n",
       "2016-01-01 02:00:00  87.13  ...    83.33  0.0  62.52  16.43  38.97  0.01   \n",
       "2016-01-01 03:00:00  87.51  ...    61.98  0.0  64.72  15.66  39.07  0.00   \n",
       "2016-01-01 04:00:00  88.61  ...     69.2  0.0  68.06  14.93  39.65  0.00   \n",
       "\n",
       "                      TOL     WD    WS   XYL  \n",
       "period                                        \n",
       "2016-01-01 00:00:00  3.23  16.39  0.41  2.35  \n",
       "2016-01-01 01:00:00  2.18  16.33  0.53  1.53  \n",
       "2016-01-01 02:00:00  1.65  16.30  0.45  1.08  \n",
       "2016-01-01 03:00:00  1.30  16.25  0.29  0.76  \n",
       "2016-01-01 04:00:00  1.15  16.23  0.28  0.60  \n",
       "\n",
       "[5 rows x 22 columns]"
      ]
     },
     "execution_count": 91,
     "metadata": {},
     "output_type": "execute_result"
    }
   ],
   "source": [
    "dataset.head()"
   ]
  },
  {
   "cell_type": "code",
   "execution_count": 92,
   "metadata": {
    "collapsed": true
   },
   "outputs": [],
   "source": [
    "def NaNMaker(dataset):\n",
    "    NaNList = ['AP','C6','CO','NO','NO2','NOX','O3','RH','RT','SO2','TOL','WD','WS','XYL']\n",
    "    for i in NaNList:\n",
    "        print(i)\n",
    "        dataset[i].replace(0,dataset[i].mean())\n",
    "        print(dataset[i].product())\n",
    "    return dataset"
   ]
  },
  {
   "cell_type": "code",
   "execution_count": 93,
   "metadata": {},
   "outputs": [
    {
     "name": "stdout",
     "output_type": "stream",
     "text": [
      "AP\n"
     ]
    },
    {
     "ename": "NameError",
     "evalue": "name 'printz' is not defined",
     "output_type": "error",
     "traceback": [
      "\u001b[1;31m---------------------------------------------------------------------------\u001b[0m",
      "\u001b[1;31mNameError\u001b[0m                                 Traceback (most recent call last)",
      "\u001b[1;32m<ipython-input-93-5db34c1e8dd7>\u001b[0m in \u001b[0;36m<module>\u001b[1;34m()\u001b[0m\n\u001b[1;32m----> 1\u001b[1;33m \u001b[0mdataset\u001b[0m \u001b[1;33m=\u001b[0m \u001b[0mNaNMaker\u001b[0m\u001b[1;33m(\u001b[0m\u001b[0mdataset\u001b[0m\u001b[1;33m)\u001b[0m\u001b[1;33m\u001b[0m\u001b[0m\n\u001b[0m",
      "\u001b[1;32m<ipython-input-92-7eb1038df004>\u001b[0m in \u001b[0;36mNaNMaker\u001b[1;34m(dataset)\u001b[0m\n\u001b[0;32m      4\u001b[0m         \u001b[0mprint\u001b[0m\u001b[1;33m(\u001b[0m\u001b[0mi\u001b[0m\u001b[1;33m)\u001b[0m\u001b[1;33m\u001b[0m\u001b[0m\n\u001b[0;32m      5\u001b[0m         \u001b[0mdataset\u001b[0m\u001b[1;33m[\u001b[0m\u001b[0mi\u001b[0m\u001b[1;33m]\u001b[0m\u001b[1;33m.\u001b[0m\u001b[0mreplace\u001b[0m\u001b[1;33m(\u001b[0m\u001b[1;36m0\u001b[0m\u001b[1;33m,\u001b[0m\u001b[0mdataset\u001b[0m\u001b[1;33m[\u001b[0m\u001b[0mi\u001b[0m\u001b[1;33m]\u001b[0m\u001b[1;33m.\u001b[0m\u001b[0mmean\u001b[0m\u001b[1;33m(\u001b[0m\u001b[1;33m)\u001b[0m\u001b[1;33m)\u001b[0m\u001b[1;33m\u001b[0m\u001b[0m\n\u001b[1;32m----> 6\u001b[1;33m         \u001b[0mprintz\u001b[0m\u001b[1;33m(\u001b[0m\u001b[0mdataset\u001b[0m\u001b[1;33m[\u001b[0m\u001b[0mi\u001b[0m\u001b[1;33m]\u001b[0m\u001b[1;33m.\u001b[0m\u001b[0mproduct\u001b[0m\u001b[1;33m(\u001b[0m\u001b[1;33m)\u001b[0m\u001b[1;33m)\u001b[0m\u001b[1;33m\u001b[0m\u001b[0m\n\u001b[0m\u001b[0;32m      7\u001b[0m     \u001b[1;32mreturn\u001b[0m \u001b[0mdataset\u001b[0m\u001b[1;33m\u001b[0m\u001b[0m\n",
      "\u001b[1;31mNameError\u001b[0m: name 'printz' is not defined"
     ]
    }
   ],
   "source": [
    "dataset = NaNMaker(dataset)"
   ]
  },
  {
   "cell_type": "code",
   "execution_count": 86,
   "metadata": {},
   "outputs": [
    {
     "data": {
      "image/png": "[encoded data removed]",
      "text/plain": [
       "<matplotlib.figure.Figure at 0x1ea2d8b1128>"
      ]
     },
     "metadata": {},
     "output_type": "display_data"
    }
   ],
   "source": [
    "dataset[['AP']].plot()\n",
    "plt.show()"
   ]
  },
  {
   "cell_type": "code",
   "execution_count": 50,
   "metadata": {
    "collapsed": true,
    "scrolled": true
   },
   "outputs": [],
   "source": [
    "from statsmodels.tsa.stattools import adfuller\n",
    "def teststationarity(timeseries):\n",
    "    \n",
    "    #determining rolling stats\n",
    "    rolmean = pd.rolling_mean(timeseries,window=24)\n",
    "    rolstd = pd.rolling_std(timeseries,window=24)\n",
    "    #print(rolmean)\n",
    "    #print(rolstd)\n",
    "    \n",
    "    #plotting rolling mean data\n",
    "    orig = plt.plot(timeseries, color='blue', label = 'Original')\n",
    "    mean = plt.plot(rolmean, color = 'red', label = 'Rolling mean')\n",
    "    std = plt.plot(rolstd, color = 'green', label = 'Rolling standard')\n",
    "    plt.legend(loc = 'best')\n",
    "    plt.title(\"Rolling mean and standard deviation\")\n",
    "    plt.show(block = False)\n",
    "    \n",
    "    #applying dickey fuller test\n",
    "    print(\"Results of Dickey Fuller Test: \")\n",
    "    dftest = adfuller(timeseries,autolag = 'AIC')\n",
    "    dfoutput = pd.Series(dftest[0:4], index=['Test Statistic','p-value','#Lags Used','Number of Observations Used'])\n",
    "    for key,value in dftest[4].items():\n",
    "        dfoutput['Critical Value (%s)'%key] = value\n",
    "    print(dfoutput)\n",
    "    \n",
    "#teststationarity(ts)"
   ]
  },
  {
   "cell_type": "code",
   "execution_count": 26,
   "metadata": {},
   "outputs": [
    {
     "data": {
      "text/plain": [
       "Index(['Year', 'Month', 'Day', 'Hour', 'AP', 'C6', 'CO', 'NO', 'NO2', 'NOX',\n",
       "       'O3', 'PM10', 'PM25', 'RF', 'RH', 'RT', 'SO2', 'SR', 'TOL', 'WD', 'WS',\n",
       "       'XYL'],\n",
       "      dtype='object')"
      ]
     },
     "execution_count": 26,
     "metadata": {},
     "output_type": "execute_result"
    }
   ],
   "source": [
    "dataset.columns"
   ]
  },
  {
   "cell_type": "code",
   "execution_count": 63,
   "metadata": {},
   "outputs": [
    {
     "data": {
      "text/plain": [
       "945.1089959016392"
      ]
     },
     "execution_count": 63,
     "metadata": {},
     "output_type": "execute_result"
    }
   ],
   "source": [
    "dataset['AP'].mean()"
   ]
  },
  {
   "cell_type": "code",
   "execution_count": null,
   "metadata": {
    "collapsed": true
   },
   "outputs": [],
   "source": []
  }
 ],
 "metadata": {
  "kernelspec": {
   "display_name": "Python 3",
   "language": "python",
   "name": "python3"
  },
  "language_info": {
   "codemirror_mode": {
    "name": "ipython",
    "version": 3
   },
   "file_extension": ".py",
   "mimetype": "text/x-python",
   "name": "python",
   "nbconvert_exporter": "python",
   "pygments_lexer": "ipython3",
   "version": "3.6.3"
  }
 },
 "nbformat": 4,
 "nbformat_minor": 2
}
